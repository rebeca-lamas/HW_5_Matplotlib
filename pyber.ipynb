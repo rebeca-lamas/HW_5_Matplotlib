{
 "cells": [
  {
   "cell_type": "code",
   "execution_count": 137,
   "metadata": {},
   "outputs": [
    {
     "data": {
      "text/html": [
       "<div>\n",
       "<style scoped>\n",
       "    .dataframe tbody tr th:only-of-type {\n",
       "        vertical-align: middle;\n",
       "    }\n",
       "\n",
       "    .dataframe tbody tr th {\n",
       "        vertical-align: top;\n",
       "    }\n",
       "\n",
       "    .dataframe thead th {\n",
       "        text-align: right;\n",
       "    }\n",
       "</style>\n",
       "<table border=\"1\" class=\"dataframe\">\n",
       "  <thead>\n",
       "    <tr style=\"text-align: right;\">\n",
       "      <th></th>\n",
       "      <th>city</th>\n",
       "      <th>date</th>\n",
       "      <th>fare</th>\n",
       "      <th>ride_id</th>\n",
       "      <th>driver_count</th>\n",
       "      <th>type</th>\n",
       "    </tr>\n",
       "  </thead>\n",
       "  <tbody>\n",
       "    <tr>\n",
       "      <th>0</th>\n",
       "      <td>Lake Jonathanshire</td>\n",
       "      <td>2018-01-14 10:14:22</td>\n",
       "      <td>13.83</td>\n",
       "      <td>5739410935873</td>\n",
       "      <td>5</td>\n",
       "      <td>Urban</td>\n",
       "    </tr>\n",
       "    <tr>\n",
       "      <th>1</th>\n",
       "      <td>Lake Jonathanshire</td>\n",
       "      <td>2018-04-07 20:51:11</td>\n",
       "      <td>31.25</td>\n",
       "      <td>4441251834598</td>\n",
       "      <td>5</td>\n",
       "      <td>Urban</td>\n",
       "    </tr>\n",
       "    <tr>\n",
       "      <th>2</th>\n",
       "      <td>Lake Jonathanshire</td>\n",
       "      <td>2018-03-09 23:45:55</td>\n",
       "      <td>19.89</td>\n",
       "      <td>2389495660448</td>\n",
       "      <td>5</td>\n",
       "      <td>Urban</td>\n",
       "    </tr>\n",
       "    <tr>\n",
       "      <th>3</th>\n",
       "      <td>Lake Jonathanshire</td>\n",
       "      <td>2018-04-07 18:09:21</td>\n",
       "      <td>24.28</td>\n",
       "      <td>7796805191168</td>\n",
       "      <td>5</td>\n",
       "      <td>Urban</td>\n",
       "    </tr>\n",
       "    <tr>\n",
       "      <th>4</th>\n",
       "      <td>Lake Jonathanshire</td>\n",
       "      <td>2018-01-02 14:14:50</td>\n",
       "      <td>13.89</td>\n",
       "      <td>424254840012</td>\n",
       "      <td>5</td>\n",
       "      <td>Urban</td>\n",
       "    </tr>\n",
       "  </tbody>\n",
       "</table>\n",
       "</div>"
      ],
      "text/plain": [
       "                 city                 date   fare        ride_id  \\\n",
       "0  Lake Jonathanshire  2018-01-14 10:14:22  13.83  5739410935873   \n",
       "1  Lake Jonathanshire  2018-04-07 20:51:11  31.25  4441251834598   \n",
       "2  Lake Jonathanshire  2018-03-09 23:45:55  19.89  2389495660448   \n",
       "3  Lake Jonathanshire  2018-04-07 18:09:21  24.28  7796805191168   \n",
       "4  Lake Jonathanshire  2018-01-02 14:14:50  13.89   424254840012   \n",
       "\n",
       "   driver_count   type  \n",
       "0             5  Urban  \n",
       "1             5  Urban  \n",
       "2             5  Urban  \n",
       "3             5  Urban  \n",
       "4             5  Urban  "
      ]
     },
     "execution_count": 137,
     "metadata": {},
     "output_type": "execute_result"
    }
   ],
   "source": [
    "%matplotlib inline\n",
    "# Dependencies and Setup\n",
    "import matplotlib.pyplot as plt\n",
    "import pandas as pd\n",
    "import numpy as np\n",
    "\n",
    "# File to Load (Remember to change these)\n",
    "city_data_to_load = \"data/city_data.csv\"\n",
    "ride_data_to_load = \"data/ride_data.csv\"\n",
    "\n",
    "# Read the City and Ride Data\n",
    "city_df = pd.read_csv(\"Resources/city_data.csv\")\n",
    "ride_df = pd.read_csv(\"Resources/ride_data.csv\")\n",
    "\n",
    "# Combine the data into a single dataset\n",
    "complete_df = pd.merge(ride_df, city_df, on=\"city\", how=\"outer\")\n",
    "\n",
    "# Display the data table for preview\n",
    "complete_df.head()"
   ]
  },
  {
   "cell_type": "markdown",
   "metadata": {},
   "source": [
    "## Bubble Plot of Ride Sharing Data"
   ]
  },
  {
   "cell_type": "code",
   "execution_count": 138,
   "metadata": {},
   "outputs": [
    {
     "data": {
      "text/html": [
       "<div>\n",
       "<style scoped>\n",
       "    .dataframe tbody tr th:only-of-type {\n",
       "        vertical-align: middle;\n",
       "    }\n",
       "\n",
       "    .dataframe tbody tr th {\n",
       "        vertical-align: top;\n",
       "    }\n",
       "\n",
       "    .dataframe thead th {\n",
       "        text-align: right;\n",
       "    }\n",
       "</style>\n",
       "<table border=\"1\" class=\"dataframe\">\n",
       "  <thead>\n",
       "    <tr style=\"text-align: right;\">\n",
       "      <th></th>\n",
       "      <th>city</th>\n",
       "      <th>date</th>\n",
       "      <th>fare</th>\n",
       "      <th>ride_id</th>\n",
       "      <th>driver_count</th>\n",
       "      <th>type</th>\n",
       "    </tr>\n",
       "  </thead>\n",
       "  <tbody>\n",
       "    <tr>\n",
       "      <th>0</th>\n",
       "      <td>Lake Jonathanshire</td>\n",
       "      <td>2018-01-14 10:14:22</td>\n",
       "      <td>13.83</td>\n",
       "      <td>5739410935873</td>\n",
       "      <td>5</td>\n",
       "      <td>Urban</td>\n",
       "    </tr>\n",
       "    <tr>\n",
       "      <th>1</th>\n",
       "      <td>Lake Jonathanshire</td>\n",
       "      <td>2018-04-07 20:51:11</td>\n",
       "      <td>31.25</td>\n",
       "      <td>4441251834598</td>\n",
       "      <td>5</td>\n",
       "      <td>Urban</td>\n",
       "    </tr>\n",
       "    <tr>\n",
       "      <th>2</th>\n",
       "      <td>Lake Jonathanshire</td>\n",
       "      <td>2018-03-09 23:45:55</td>\n",
       "      <td>19.89</td>\n",
       "      <td>2389495660448</td>\n",
       "      <td>5</td>\n",
       "      <td>Urban</td>\n",
       "    </tr>\n",
       "    <tr>\n",
       "      <th>3</th>\n",
       "      <td>Lake Jonathanshire</td>\n",
       "      <td>2018-04-07 18:09:21</td>\n",
       "      <td>24.28</td>\n",
       "      <td>7796805191168</td>\n",
       "      <td>5</td>\n",
       "      <td>Urban</td>\n",
       "    </tr>\n",
       "    <tr>\n",
       "      <th>4</th>\n",
       "      <td>Lake Jonathanshire</td>\n",
       "      <td>2018-01-02 14:14:50</td>\n",
       "      <td>13.89</td>\n",
       "      <td>424254840012</td>\n",
       "      <td>5</td>\n",
       "      <td>Urban</td>\n",
       "    </tr>\n",
       "  </tbody>\n",
       "</table>\n",
       "</div>"
      ],
      "text/plain": [
       "                 city                 date   fare        ride_id  \\\n",
       "0  Lake Jonathanshire  2018-01-14 10:14:22  13.83  5739410935873   \n",
       "1  Lake Jonathanshire  2018-04-07 20:51:11  31.25  4441251834598   \n",
       "2  Lake Jonathanshire  2018-03-09 23:45:55  19.89  2389495660448   \n",
       "3  Lake Jonathanshire  2018-04-07 18:09:21  24.28  7796805191168   \n",
       "4  Lake Jonathanshire  2018-01-02 14:14:50  13.89   424254840012   \n",
       "\n",
       "   driver_count   type  \n",
       "0             5  Urban  \n",
       "1             5  Urban  \n",
       "2             5  Urban  \n",
       "3             5  Urban  \n",
       "4             5  Urban  "
      ]
     },
     "execution_count": 138,
     "metadata": {},
     "output_type": "execute_result"
    }
   ],
   "source": [
    "#filtered data frame of only urban cities & reset indexes\n",
    "urban_df = complete_df.loc[complete_df[\"type\"] == \"Urban\",:]\n",
    "urban_df = urban_df.reset_index(drop=True)\n",
    "\n",
    "#filtered data frame of only suburban cities & reset indexes\n",
    "suburban_df = complete_df.loc[complete_df[\"type\"] == \"Suburban\",:]\n",
    "suburban_df = suburban_df.reset_index(drop=True)\n",
    "\n",
    "#filtered data frame of only rural cities & reset indexes\n",
    "rural_df = complete_df.loc[complete_df[\"type\"] == \"Rural\",:]\n",
    "rural_df = rural_df.reset_index(drop=True)\n",
    "urban_df.head()"
   ]
  },
  {
   "cell_type": "code",
   "execution_count": 139,
   "metadata": {},
   "outputs": [
    {
     "data": {
      "text/html": [
       "<div>\n",
       "<style scoped>\n",
       "    .dataframe tbody tr th:only-of-type {\n",
       "        vertical-align: middle;\n",
       "    }\n",
       "\n",
       "    .dataframe tbody tr th {\n",
       "        vertical-align: top;\n",
       "    }\n",
       "\n",
       "    .dataframe thead th {\n",
       "        text-align: right;\n",
       "    }\n",
       "</style>\n",
       "<table border=\"1\" class=\"dataframe\">\n",
       "  <thead>\n",
       "    <tr style=\"text-align: right;\">\n",
       "      <th></th>\n",
       "      <th>Urban Cities</th>\n",
       "      <th>Average Fare ($)</th>\n",
       "      <th>Total Number of Rides (Per City)</th>\n",
       "      <th>Driver Count</th>\n",
       "    </tr>\n",
       "  </thead>\n",
       "  <tbody>\n",
       "    <tr>\n",
       "      <th>0</th>\n",
       "      <td>Lake Jonathanshire</td>\n",
       "      <td>23.43</td>\n",
       "      <td>24</td>\n",
       "      <td>5</td>\n",
       "    </tr>\n",
       "    <tr>\n",
       "      <th>1</th>\n",
       "      <td>South Michelleport</td>\n",
       "      <td>24.45</td>\n",
       "      <td>31</td>\n",
       "      <td>72</td>\n",
       "    </tr>\n",
       "    <tr>\n",
       "      <th>2</th>\n",
       "      <td>Port Samanthamouth</td>\n",
       "      <td>25.64</td>\n",
       "      <td>25</td>\n",
       "      <td>57</td>\n",
       "    </tr>\n",
       "    <tr>\n",
       "      <th>3</th>\n",
       "      <td>Rodneyfort</td>\n",
       "      <td>28.62</td>\n",
       "      <td>23</td>\n",
       "      <td>34</td>\n",
       "    </tr>\n",
       "    <tr>\n",
       "      <th>4</th>\n",
       "      <td>South Jack</td>\n",
       "      <td>22.97</td>\n",
       "      <td>19</td>\n",
       "      <td>46</td>\n",
       "    </tr>\n",
       "  </tbody>\n",
       "</table>\n",
       "</div>"
      ],
      "text/plain": [
       "         Urban Cities  Average Fare ($)  Total Number of Rides (Per City)  \\\n",
       "0  Lake Jonathanshire             23.43                                24   \n",
       "1  South Michelleport             24.45                                31   \n",
       "2  Port Samanthamouth             25.64                                25   \n",
       "3          Rodneyfort             28.62                                23   \n",
       "4          South Jack             22.97                                19   \n",
       "\n",
       "   Driver Count  \n",
       "0             5  \n",
       "1            72  \n",
       "2            57  \n",
       "3            34  \n",
       "4            46  "
      ]
     },
     "execution_count": 139,
     "metadata": {},
     "output_type": "execute_result"
    }
   ],
   "source": [
    "#creating graph for urban\n",
    "urban_total_rides = [] #creating list for urban total rides\n",
    "avg_fare_urban = [] #creating list for urban average fare\n",
    "urban_city = urban_df.city.unique() #list of the urban city names (no repeats)\n",
    "urban_driver_count = [] #empty list for diver total per city\n",
    "\n",
    "for i in range(len(urban_city)):\n",
    "    #using loc it runs through the urban filtered df. \n",
    "    #Checks cities against the city in urban city list. calculates the mean of the fares for given city.\n",
    "    fare = urban_df.loc[urban_df[\"city\"] == urban_city[i], \"fare\"].mean()\n",
    "    avg_fare_urban.append(fare) #appends mean for the city to the avg_fare_urban list\n",
    "    \n",
    "    #Checks cities against the city in urban city list. Counts the number of times that city appears = number of total rides.\n",
    "    rides = urban_df.loc[urban_df[\"city\"] == urban_city[i], \"city\"].count()\n",
    "    urban_total_rides.append(rides) #appends ride count for the city to the urban_total_rides list\n",
    "    \n",
    "    #if row matches the current city looking for returns the value in the driver_count column\n",
    "    driver_count  = urban_df.loc[urban_df[\"city\"] == urban_city[i], \"driver_count\"].iloc[4]\n",
    "    urban_driver_count.append(driver_count) #appends driver_count to list\n",
    "    \n",
    "    \n",
    "#creates dataframe of urban cities, average fare, total rides and driver counts\n",
    "urban_summary_df = pd.DataFrame({\"Urban Cities\": urban_city, \"Average Fare ($)\": avg_fare_urban, \n",
    "                                 \"Total Number of Rides (Per City)\": urban_total_rides,\"Driver Count\": urban_driver_count})\n",
    "urban_summary_df = urban_summary_df.round(2) #rounds the data to two decimal places\n",
    "urban_summary_df.head() #prints first five lines"
   ]
  },
  {
   "cell_type": "code",
   "execution_count": 140,
   "metadata": {},
   "outputs": [
    {
     "data": {
      "text/plain": [
       "(0, 40)"
      ]
     },
     "execution_count": 140,
     "metadata": {},
     "output_type": "execute_result"
    },
    {
     "data": {
      "image/png": "[encoded data removed]",
      "text/plain": [
       "<Figure size 432x288 with 1 Axes>"
      ]
     },
     "metadata": {
      "needs_background": "light"
     },
     "output_type": "display_data"
    }
   ],
   "source": [
    "#graphs urban_summary_df as a scatter plot\n",
    "urban_chart = urban_summary_df.plot(kind='scatter', x=\"Total Number of Rides (Per City)\", y=\"Average Fare ($)\", c=\"Coral\")\n",
    "plt.ylim(18, 45)\n",
    "plt.xlim(0,40)"
   ]
  },
  {
   "cell_type": "code",
   "execution_count": 141,
   "metadata": {},
   "outputs": [
    {
     "data": {
      "text/html": [
       "<div>\n",
       "<style scoped>\n",
       "    .dataframe tbody tr th:only-of-type {\n",
       "        vertical-align: middle;\n",
       "    }\n",
       "\n",
       "    .dataframe tbody tr th {\n",
       "        vertical-align: top;\n",
       "    }\n",
       "\n",
       "    .dataframe thead th {\n",
       "        text-align: right;\n",
       "    }\n",
       "</style>\n",
       "<table border=\"1\" class=\"dataframe\">\n",
       "  <thead>\n",
       "    <tr style=\"text-align: right;\">\n",
       "      <th></th>\n",
       "      <th>Suburban Cities</th>\n",
       "      <th>Average Fare ($)</th>\n",
       "      <th>Total Number of Rides (Per City)</th>\n",
       "      <th>Driver Count</th>\n",
       "    </tr>\n",
       "  </thead>\n",
       "  <tbody>\n",
       "    <tr>\n",
       "      <th>0</th>\n",
       "      <td>Barronchester</td>\n",
       "      <td>36.42</td>\n",
       "      <td>16</td>\n",
       "      <td>11</td>\n",
       "    </tr>\n",
       "    <tr>\n",
       "      <th>1</th>\n",
       "      <td>East Kentstad</td>\n",
       "      <td>29.82</td>\n",
       "      <td>13</td>\n",
       "      <td>20</td>\n",
       "    </tr>\n",
       "    <tr>\n",
       "      <th>2</th>\n",
       "      <td>Lake Omar</td>\n",
       "      <td>28.07</td>\n",
       "      <td>14</td>\n",
       "      <td>22</td>\n",
       "    </tr>\n",
       "    <tr>\n",
       "      <th>3</th>\n",
       "      <td>Myersshire</td>\n",
       "      <td>30.20</td>\n",
       "      <td>16</td>\n",
       "      <td>19</td>\n",
       "    </tr>\n",
       "    <tr>\n",
       "      <th>4</th>\n",
       "      <td>West Hannah</td>\n",
       "      <td>29.55</td>\n",
       "      <td>21</td>\n",
       "      <td>12</td>\n",
       "    </tr>\n",
       "  </tbody>\n",
       "</table>\n",
       "</div>"
      ],
      "text/plain": [
       "  Suburban Cities  Average Fare ($)  Total Number of Rides (Per City)  \\\n",
       "0   Barronchester             36.42                                16   \n",
       "1   East Kentstad             29.82                                13   \n",
       "2       Lake Omar             28.07                                14   \n",
       "3      Myersshire             30.20                                16   \n",
       "4     West Hannah             29.55                                21   \n",
       "\n",
       "   Driver Count  \n",
       "0            11  \n",
       "1            20  \n",
       "2            22  \n",
       "3            19  \n",
       "4            12  "
      ]
     },
     "execution_count": 141,
     "metadata": {},
     "output_type": "execute_result"
    }
   ],
   "source": [
    "#creating graph for suburban\n",
    "suburban_total_rides = [] #creating list for suburban total rides\n",
    "avg_fare_suburban = [] #creating list for suburban average fare\n",
    "suburban_city = suburban_df.city.unique() #list of the suburban city names (no repeats)\n",
    "suburban_driver_count = [] #empty list for diver total per city\n",
    "\n",
    "for i in range(len(suburban_city)):\n",
    "    #using loc it runs through the suburban filtered df. \n",
    "    #Checks cities against the city in suburban city list. calculates the mean of the fares for given city.\n",
    "    fare = suburban_df.loc[suburban_df[\"city\"] == suburban_city[i], \"fare\"].mean()\n",
    "    avg_fare_suburban.append(fare) #appends mean for the city to the avg_fare_suburban list\n",
    "    \n",
    "    #Checks cities against the city in suburban city list. Counts the number of times that city appears = number of total rides.\n",
    "    rides = suburban_df.loc[suburban_df[\"city\"] == suburban_city[i], \"city\"].count()\n",
    "    suburban_total_rides.append(rides) #appends ride count for the city to the suburban_total_rides list\n",
    "    \n",
    "    #if row matches the current city looking for returns the value in the driver_count column\n",
    "    driver_count  = suburban_df.loc[suburban_df[\"city\"] == suburban_city[i], \"driver_count\"].iloc[4]\n",
    "    suburban_driver_count.append(driver_count) #appends driver_count to list\n",
    "    \n",
    "#creates dataframe of suburban cities, average fare, total rides and driver counts\n",
    "suburban_summary_df = pd.DataFrame({\"Suburban Cities\": suburban_city, \"Average Fare ($)\": avg_fare_suburban,\n",
    "                                    \"Total Number of Rides (Per City)\": suburban_total_rides, \n",
    "                                    \"Driver Count\": suburban_driver_count})\n",
    "suburban_summary_df = suburban_summary_df.round(2) #rounds the data to two decimal places\n",
    "suburban_summary_df.head() #prints first five lines"
   ]
  },
  {
   "cell_type": "code",
   "execution_count": 142,
   "metadata": {},
   "outputs": [
    {
     "data": {
      "text/plain": [
       "(0, 40)"
      ]
     },
     "execution_count": 142,
     "metadata": {},
     "output_type": "execute_result"
    },
    {
     "data": {
      "image/png": "[encoded data removed]",
      "text/plain": [
       "<Figure size 432x288 with 1 Axes>"
      ]
     },
     "metadata": {
      "needs_background": "light"
     },
     "output_type": "display_data"
    }
   ],
   "source": [
    "#graphs suburban_summary_df as a scatter plot\n",
    "suburban_chart = suburban_summary_df.plot(kind='scatter', x=\"Total Number of Rides (Per City)\", y=\"Average Fare ($)\", c=\"SkyBlue\")\n",
    "plt.ylim(18, 45)\n",
    "plt.xlim(0,40)"
   ]
  },
  {
   "cell_type": "code",
   "execution_count": 143,
   "metadata": {},
   "outputs": [
    {
     "data": {
      "text/html": [
       "<div>\n",
       "<style scoped>\n",
       "    .dataframe tbody tr th:only-of-type {\n",
       "        vertical-align: middle;\n",
       "    }\n",
       "\n",
       "    .dataframe tbody tr th {\n",
       "        vertical-align: top;\n",
       "    }\n",
       "\n",
       "    .dataframe thead th {\n",
       "        text-align: right;\n",
       "    }\n",
       "</style>\n",
       "<table border=\"1\" class=\"dataframe\">\n",
       "  <thead>\n",
       "    <tr style=\"text-align: right;\">\n",
       "      <th></th>\n",
       "      <th>Rural Cities</th>\n",
       "      <th>Average Fare ($)</th>\n",
       "      <th>Total Number of Rides (Per City)</th>\n",
       "      <th>Driver Count</th>\n",
       "    </tr>\n",
       "  </thead>\n",
       "  <tbody>\n",
       "    <tr>\n",
       "      <th>0</th>\n",
       "      <td>Randallchester</td>\n",
       "      <td>29.74</td>\n",
       "      <td>5</td>\n",
       "      <td>9</td>\n",
       "    </tr>\n",
       "    <tr>\n",
       "      <th>1</th>\n",
       "      <td>North Holly</td>\n",
       "      <td>29.13</td>\n",
       "      <td>9</td>\n",
       "      <td>8</td>\n",
       "    </tr>\n",
       "    <tr>\n",
       "      <th>2</th>\n",
       "      <td>Michaelberg</td>\n",
       "      <td>35.00</td>\n",
       "      <td>12</td>\n",
       "      <td>6</td>\n",
       "    </tr>\n",
       "    <tr>\n",
       "      <th>3</th>\n",
       "      <td>Lake Latoyabury</td>\n",
       "      <td>26.06</td>\n",
       "      <td>11</td>\n",
       "      <td>2</td>\n",
       "    </tr>\n",
       "    <tr>\n",
       "      <th>4</th>\n",
       "      <td>Taylorhaven</td>\n",
       "      <td>42.26</td>\n",
       "      <td>6</td>\n",
       "      <td>1</td>\n",
       "    </tr>\n",
       "  </tbody>\n",
       "</table>\n",
       "</div>"
      ],
      "text/plain": [
       "      Rural Cities  Average Fare ($)  Total Number of Rides (Per City)  \\\n",
       "0   Randallchester             29.74                                 5   \n",
       "1      North Holly             29.13                                 9   \n",
       "2      Michaelberg             35.00                                12   \n",
       "3  Lake Latoyabury             26.06                                11   \n",
       "4      Taylorhaven             42.26                                 6   \n",
       "\n",
       "   Driver Count  \n",
       "0             9  \n",
       "1             8  \n",
       "2             6  \n",
       "3             2  \n",
       "4             1  "
      ]
     },
     "execution_count": 143,
     "metadata": {},
     "output_type": "execute_result"
    }
   ],
   "source": [
    "#creating graph for rural\n",
    "rural_total_rides = [] #creating list for rural total rides\n",
    "avg_fare_rural = [] #creating list for rural average fare\n",
    "rural_city = rural_df.city.unique() #list of the rural city names (no repeats)\n",
    "rural_driver_count = [] #empty list for diver total per city\n",
    "area = []\n",
    "\n",
    "for i in range(len(rural_city)):\n",
    "    #using loc it runs through the rural filtered df. \n",
    "    #Checks cities against the city in rural city list. calculates the mean of the fares for given city.\n",
    "    fare = rural_df.loc[rural_df[\"city\"] == rural_city[i], \"fare\"].mean()\n",
    "    avg_fare_rural.append(fare) #appends mean for the city to the avg_fare_rural list\n",
    "    \n",
    "    #Checks cities against the city in rural city list. Counts the number of times that city appears = number of total rides.\n",
    "    rides = rural_df.loc[rural_df[\"city\"] == rural_city[i], \"city\"].count()\n",
    "    rural_total_rides.append(rides) #appends ride count for the city to the rural_total_rides list\n",
    "    \n",
    "    #if row matches the current city looking for returns the value in the driver_count column\n",
    "    driver_count  = rural_df.loc[rural_df[\"city\"] == rural_city[i], \"driver_count\"].iloc[2]\n",
    "    rural_driver_count.append(driver_count) #appends driver_count to list\n",
    "    \n",
    "#creates dataframe of rural cities, average fare, total rides and driver counts\n",
    "rural_summary_df = pd.DataFrame({\"Rural Cities\": rural_city, \"Average Fare ($)\": avg_fare_rural, \n",
    "                                 \"Total Number of Rides (Per City)\": rural_total_rides, \"Driver Count\": rural_driver_count})\n",
    "rural_summary_df = rural_summary_df.round(2) #rounds the data to two decimal places\n",
    "rural_summary_df.head() #prints first five lines"
   ]
  },
  {
   "cell_type": "code",
   "execution_count": 144,
   "metadata": {},
   "outputs": [
    {
     "data": {
      "text/plain": [
       "(0, 40)"
      ]
     },
     "execution_count": 144,
     "metadata": {},
     "output_type": "execute_result"
    },
    {
     "data": {
      "image/png": "[encoded data removed]",
      "text/plain": [
       "<Figure size 432x288 with 1 Axes>"
      ]
     },
     "metadata": {
      "needs_background": "light"
     },
     "output_type": "display_data"
    }
   ],
   "source": [
    "#prints rural data scatter plot\n",
    "rural_summary_df.plot(kind='scatter', x=\"Total Number of Rides (Per City)\", y=\"Average Fare ($)\", c=\"Gold\", label = \"Rural\", \n",
    "                      edgecolors=\"black\", alpha=0.7)\n",
    "plt.ylim(18, 45)\n",
    "plt.xlim(0,40)"
   ]
  },
  {
   "cell_type": "code",
   "execution_count": 145,
   "metadata": {},
   "outputs": [
    {
     "data": {
      "text/plain": [
       "<function matplotlib.pyplot.show(*args, **kw)>"
      ]
     },
     "execution_count": 145,
     "metadata": {},
     "output_type": "execute_result"
    },
    {
     "data": {
      "image/png": "[encoded data removed]",
      "text/plain": [
       "<Figure size 432x288 with 1 Axes>"
      ]
     },
     "metadata": {
      "needs_background": "light"
     },
     "output_type": "display_data"
    }
   ],
   "source": [
    "#creates the urban plot and adds s as the bubble size\n",
    "combined_graphs = urban_summary_df.plot(kind='scatter', x=\"Total Number of Rides (Per City)\", y=\"Average Fare ($)\", c=\"Coral\",\n",
    "                                        label = \"Urban\", edgecolors=\"black\", s= np.sqrt(urban_driver_count)*60, alpha=0.7,\n",
    "                                       title=\"Pyber Ride Sharing Data (2016)\")\n",
    "#creates the rural plot and adds s as the bubble size. adds to the combined graphs sinces ax = combined_graphs\n",
    "rural_summary_df.plot(kind='scatter', x=\"Total Number of Rides (Per City)\", y=\"Average Fare ($)\", c=\"Gold\", label = \"Rural\", \n",
    "                      edgecolors=\"black\",s = np.sqrt(rural_driver_count)*60, alpha=0.7, ax = combined_graphs)\n",
    "\n",
    "#creates the suburban plot and adds s as the bubble size. adds to the combined graphs sinces ax = combined_graphs\n",
    "suburban_summary_df.plot(kind='scatter', x=\"Total Number of Rides (Per City)\", y=\"Average Fare ($)\", alpha=0.7, c=\"SkyBlue\", \n",
    "                         label = \"Suburban\", edgecolors=\"black\", s= np.sqrt(suburban_driver_count)*60, ax = combined_graphs)\n",
    "\n",
    "combined_graphs.grid(linestyle='-', linewidth='0.5', color='gray') #sets grid\n",
    "plt.figtext(1, 0.5, 'Note:\\nCircle size correlates with driver count per city') #sets note to side\n",
    "lgnd = plt.legend(loc=\"upper right\", scatterpoints=1, fontsize=10) #sets legend\n",
    "lgnd.legendHandles[0]._sizes = [30] #makes bubble size in legend equal to others\n",
    "lgnd.legendHandles[1]._sizes = [30] #makes bubble size in legend equal to others\n",
    "lgnd.legendHandles[2]._sizes = [30] #makes bubble size in legend equal to others\n",
    "plt.savefig('Pictures/pyber_ride_bubble_chart.png') #saves image to pictures folder\n",
    "plt.show"
   ]
  },
  {
   "cell_type": "markdown",
   "metadata": {},
   "source": [
    "## Total Fares by City Type"
   ]
  },
  {
   "cell_type": "code",
   "execution_count": 146,
   "metadata": {},
   "outputs": [],
   "source": [
    "urban_total_fare = urban_df.fare.sum() #finds total urban fares\n",
    "suburban_total_fare = suburban_df.fare.sum() #finds total suburban fares\n",
    "rural_total_fare = rural_df.fare.sum() #finds total rural fares\n",
    "total_fare = urban_total_fare + suburban_total_fare + rural_total_fare #finds total fares\n",
    "\n",
    "percent_fares_chart = [] #creates list for percent fares\n",
    "\n",
    "percent_urban_fare = (urban_total_fare / total_fare *100).round(1) #calculates urban percent fare\n",
    "percent_fares_chart.append(percent_urban_fare) #appends to percent_fares_chart list\n",
    "percent_suburban_fare = (suburban_total_fare / total_fare *100).round(1) #calculates suburban percent fare\n",
    "percent_fares_chart.append(percent_suburban_fare) #appends to percent_fares_chart list\n",
    "percent_rural_fare = (rural_total_fare / total_fare *100).round(1) #calculates rural percent fare\n",
    "percent_fares_chart.append(percent_rural_fare) #appends to percent_fares_chart list\n",
    "\n",
    "names = [\"Urban\", \"Suburban\", \"Rural\"] #sets names for pie sections\n",
    "explode = (0.1, 0, 0) #explodes urban piece\n",
    "colors = [\"Coral\", \"SkyBlue\", \"Gold\"] #sets the colors"
   ]
  },
  {
   "cell_type": "code",
   "execution_count": 147,
   "metadata": {},
   "outputs": [
    {
     "data": {
      "text/plain": [
       "<function matplotlib.pyplot.show(*args, **kw)>"
      ]
     },
     "execution_count": 147,
     "metadata": {},
     "output_type": "execute_result"
    },
    {
     "data": {
      "image/png": "[encoded data removed]",
      "text/plain": [
       "<Figure size 432x288 with 1 Axes>"
      ]
     },
     "metadata": {},
     "output_type": "display_data"
    }
   ],
   "source": [
    "#graphs pie chart for fares\n",
    "pie_chart_fares = plt.pie(percent_fares_chart, explode=explode, labels=names, colors=colors,\n",
    "        autopct=\"%1.1f%%\", textprops={'color':\"black\"}, shadow=True, startangle=280)\n",
    "plt.axis(\"equal\") #makes it a circle\n",
    "plt.title(\"% of Total Fares by City Type\") #adds title\n",
    "plt.savefig('Pictures/percent_total_fares.png') #saves image to pictures folder\n",
    "plt.show"
   ]
  },
  {
   "cell_type": "markdown",
   "metadata": {},
   "source": [
    "## Total Rides by City Type"
   ]
  },
  {
   "cell_type": "code",
   "execution_count": 148,
   "metadata": {},
   "outputs": [],
   "source": [
    "np.asarray(urban_total_rides) #converts series to a numpy array so we can sum it later\n",
    "total_urban_rides = np.sum(urban_total_rides) #sums array to find total urban rides\n",
    "\n",
    "np.asarray(suburban_total_rides) #converts series to a numpy array so we can sum it later\n",
    "total_suburban_rides = np.sum(suburban_total_rides) #sums array to find total suburban rides\n",
    "\n",
    "np.asarray(rural_total_rides) #converts series to a numpy array so we can sum it later\n",
    "total_rural_rides = np.sum(rural_total_rides) #sums array to find total rural rides\n",
    "\n",
    "total_rides = total_rural_rides + total_suburban_rides + total_urban_rides #calculates total rides"
   ]
  },
  {
   "cell_type": "code",
   "execution_count": 149,
   "metadata": {},
   "outputs": [],
   "source": [
    "percent_rides_chart = [] #list will hold percents for rides\n",
    "\n",
    "percent_urban_rides = (total_urban_rides / total_rides *100).round(1) #calculates urban percent rides\n",
    "percent_rides_chart.append(percent_urban_rides) #appends to percent_rides_chart list\n",
    "\n",
    "percent_suburban_rides = (total_suburban_rides / total_rides *100).round(1) #calculates suburban percent rides\n",
    "percent_rides_chart.append(percent_suburban_rides) #appends to percent_rides_chart list\n",
    "\n",
    "percent_rural_rides = (total_rural_rides / total_rides *100).round(1) #calculates rural percent rides\n",
    "percent_rides_chart.append(percent_rural_rides) #appends to percent_rides_chart list"
   ]
  },
  {
   "cell_type": "code",
   "execution_count": 150,
   "metadata": {},
   "outputs": [],
   "source": [
    "names = [\"Urban\", \"Suburban\", \"Rural\"] #sets names for pie sections\n",
    "explode = (0.1, 0, 0) #explodes urban piece\n",
    "colors = [\"Coral\", \"SkyBlue\", \"Gold\"] #sets the colors"
   ]
  },
  {
   "cell_type": "code",
   "execution_count": 151,
   "metadata": {},
   "outputs": [
    {
     "data": {
      "text/plain": [
       "<function matplotlib.pyplot.show(*args, **kw)>"
      ]
     },
     "execution_count": 151,
     "metadata": {},
     "output_type": "execute_result"
    },
    {
     "data": {
      "image/png": "[encoded data removed]",
      "text/plain": [
       "<Figure size 432x288 with 1 Axes>"
      ]
     },
     "metadata": {},
     "output_type": "display_data"
    }
   ],
   "source": [
    "#graphs pie chart for rides\n",
    "pie_chart_rides = plt.pie(percent_rides_chart, explode=explode, labels=names, colors=colors,\n",
    "        autopct=\"%1.1f%%\", textprops={'color':\"black\"}, shadow=True, startangle=280)\n",
    "plt.axis(\"equal\") #makes it a circle\n",
    "plt.title(\"% of Total Rides by City Type\") #adds title\n",
    "plt.savefig('Pictures/percent_total_rides.png')  #saves image to pictures folder\n",
    "plt.show"
   ]
  },
  {
   "cell_type": "markdown",
   "metadata": {},
   "source": [
    "## Total Drivers by City Type"
   ]
  },
  {
   "cell_type": "code",
   "execution_count": 152,
   "metadata": {},
   "outputs": [],
   "source": [
    "np.asarray(urban_driver_count) #converts series to a numpy array so we can sum it later\n",
    "total_urban_drivers = np.sum(urban_driver_count) #sums array to find total urban drivers\n",
    "\n",
    "np.asarray(suburban_driver_count) #converts series to a numpy array so we can sum it later\n",
    "total_suburban_drivers = np.sum(suburban_driver_count) #sums array to find total suburban drivers\n",
    "\n",
    "np.asarray(rural_driver_count) #converts series to a numpy array so we can sum it later\n",
    "total_rural_drivers = np.sum(rural_driver_count)  #sums array to find total rural drivers\n",
    "\n",
    "total_drivers = total_rural_drivers + total_suburban_drivers + total_urban_drivers #calculates total rides"
   ]
  },
  {
   "cell_type": "code",
   "execution_count": 153,
   "metadata": {
    "scrolled": true
   },
   "outputs": [],
   "source": [
    "percent_drivers_chart = [] #list will hold percents for drivers\n",
    "\n",
    "percent_urban_drivers = (total_urban_drivers / total_drivers *100).round(1) #calculates urban percent drivers\n",
    "percent_drivers_chart.append(percent_urban_drivers) #appends to percent_drivers_chart list\n",
    "\n",
    "percent_suburban_drivers = (total_suburban_drivers / total_drivers *100).round(1) #calculates suburban percent drivers\n",
    "percent_drivers_chart.append(percent_suburban_drivers) #appends to percent_drivers_chart list\n",
    "\n",
    "percent_rural_drivers = (total_rural_drivers / total_drivers *100).round(1) #calculates rural percent drivers\n",
    "percent_drivers_chart.append(percent_rural_drivers) #appends to percent_drivers_chart list"
   ]
  },
  {
   "cell_type": "code",
   "execution_count": 154,
   "metadata": {},
   "outputs": [],
   "source": [
    "names = [\"Urban\", \"Suburban\", \"Rural\"] #sets names for pie sections\n",
    "explode = (0.1, 0, 0) #explodes urban piece\n",
    "colors = [\"Coral\", \"SkyBlue\", \"Gold\"] #adds title"
   ]
  },
  {
   "cell_type": "code",
   "execution_count": 155,
   "metadata": {},
   "outputs": [
    {
     "data": {
      "text/plain": [
       "<function matplotlib.pyplot.show(*args, **kw)>"
      ]
     },
     "execution_count": 155,
     "metadata": {},
     "output_type": "execute_result"
    },
    {
     "data": {
      "image/png": "[encoded data removed]",
      "text/plain": [
       "<Figure size 432x288 with 1 Axes>"
      ]
     },
     "metadata": {},
     "output_type": "display_data"
    }
   ],
   "source": [
    "#graphs pie chart for drivers\n",
    "pie_chart_drivers = plt.pie(percent_drivers_chart, explode=explode, labels=names, colors=colors,\n",
    "        autopct=\"%1.1f%%\", textprops={'color':\"black\"}, shadow=True, startangle=280)\n",
    "plt.axis(\"equal\") #makes it a circle\n",
    "plt.title(\"% of Total Drivers by City Type\") #adds title\n",
    "plt.savefig('Pictures/percent_total_drivers.png') #saves image to pictures folder\n",
    "plt.show"
   ]
  },
  {
   "cell_type": "markdown",
   "metadata": {},
   "source": [
    "## Observations"
   ]
  },
  {
   "cell_type": "markdown",
   "metadata": {},
   "source": [
    "1. The average fare for a ride is more expensive in rural areas. It is then followed by suburban and urban is the cheapest. Though the cause for this is not obvious. One factor could be the most drivers are found in urban areas (80.9%), followed by suburban (16.5%) and rural has the least (2.6%). Thus since there is a smaller supply of drivers, then the prices for rides goes up. Though another factor could be distance. We do not have any data on how far the rides were. It is likely that in rural areas the rides are going to be longer versus the urban areas it is likely shorter distances they are traveling. \n",
    "\n",
    "2. Urban areas has the most number of rides (68.4% of the total rides), followed by suburban rides (26.3% of the total rides), followed by rural rides (5.3% of the total rides).\n",
    "\n",
    "3. Urban cities account for 80.9% of drivers, though only 68.4% of total rides are in urban areas. This is a large disparity. This could mean there is a need for more drivers in suburban areas and there are too many in urban. Or there could be a high number of rides that begin in urban areas and end in suburbs. I would want to know how those rides were characterized. If they were labeled at suburban because that was where they ended then that could account for this disparity. "
   ]
  }
 ],
 "metadata": {
  "anaconda-cloud": {},
  "kernelspec": {
   "display_name": "Python 3",
   "language": "python",
   "name": "python3"
  },
  "language_info": {
   "codemirror_mode": {
    "name": "ipython",
    "version": 3
   },
   "file_extension": ".py",
   "mimetype": "text/x-python",
   "name": "python",
   "nbconvert_exporter": "python",
   "pygments_lexer": "ipython3",
   "version": "3.7.4"
  },
  "latex_envs": {
   "LaTeX_envs_menu_present": true,
   "autoclose": false,
   "autocomplete": true,
   "bibliofile": "biblio.bib",
   "cite_by": "apalike",
   "current_citInitial": 1,
   "eqLabelWithNumbers": true,
   "eqNumInitial": 1,
   "hotkeys": {
    "equation": "Ctrl-E",
    "itemize": "Ctrl-I"
   },
   "labels_anchors": false,
   "latex_user_defs": false,
   "report_style_numbering": false,
   "user_envs_cfg": false
  }
 },
 "nbformat": 4,
 "nbformat_minor": 2
}
